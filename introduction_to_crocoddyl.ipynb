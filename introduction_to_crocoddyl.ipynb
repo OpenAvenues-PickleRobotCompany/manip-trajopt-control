{
  "cells": [
    {
      "cell_type": "markdown",
      "metadata": {
        "id": "view-in-github",
        "colab_type": "text"
      },
      "source": [
        "<a href=\"https://colab.research.google.com/github/OpenAvenues-PickleRobotCompany/manip-trajopt-control/blob/elijah/introduction_to_crocoddyl.ipynb\" target=\"_parent\"><img src=\"https://colab.research.google.com/assets/colab-badge.svg\" alt=\"Open In Colab\"/></a>"
      ]
    },
    {
      "cell_type": "markdown",
      "metadata": {
        "id": "VKKdiF4c1qFY"
      },
      "source": [
        "# Crocoddyl: Contact RObot Control by Differential DYnamic programming Library\n",
        "\n",
        "\n",
        "## I. Welcome to crocoddyl\n",
        "Crocoddyl is an **optimal control library for robot control under contact sequence**. Its solver is based on an efficient Differential Dynamic Programming (DDP) algorithm. Crocoddyl computes optimal trajectories along with optimal feedback gains. It uses Pinocchio for fast computation of robot dynamics and its analytical derivatives. \n",
        "\n",
        "Crocoddyl is focused on multi-contact optimal control problem (MCOP) which as the form:\n",
        "\n",
        "$$\\mathbf{X}^*,\\mathbf{U}^*=\n",
        "\\begin{Bmatrix} \\mathbf{x}^*_0,\\cdots,\\mathbf{x}^*_N \\\\\n",
        "\t\t\t\t  \\mathbf{u}^*_0,\\cdots,\\mathbf{u}^*_N\n",
        "\\end{Bmatrix} =\n",
        "\\arg\\min_{\\mathbf{X},\\mathbf{U}} \\sum_{k=1}^N \\int_{t_k}^{t_k+\\Delta t} l(\\mathbf{x},\\mathbf{u})dt$$\n",
        "subject to\n",
        "$$ \\mathbf{\\dot{x}} = \\mathbf{f}(\\mathbf{x},\\mathbf{u}),$$\n",
        "$$ \\mathbf{x}\\in\\mathcal{X}, \\mathbf{u}\\in\\mathcal{U}, \\boldsymbol{\\lambda}\\in\\mathcal{K}.$$\n",
        "where\n",
        " - the state $\\mathbf{x}=(\\mathbf{q},\\mathbf{v})$ lies in a manifold, e.g. Lie manifold $\\mathbf{q}\\in SE(3)\\times \\mathbb{R}^{n_j}$, $n_j$ being the number of degrees of freedom of the robot.\n",
        " - the system has underactuacted dynamics, i.e. $\\mathbf{u}=(\\mathbf{0},\\boldsymbol{\\tau})$,\n",
        " - $\\mathcal{X}$, $\\mathcal{U}$ are the state and control admissible sets, and\n",
        " - $\\mathcal{K}$ represents the contact constraints.\n",
        " \n",
        " Note that $\\boldsymbol{\\lambda}=\\mathbf{g}(\\mathbf{x},\\mathbf{u})$ denotes the contact force, and is dependent on the state and control.\n",
        " \n",
        "Let's start by understanding the concept behind crocoddyl design."
      ]
    },
    {
      "cell_type": "markdown",
      "metadata": {
        "id": "UZI37n_N1qFc"
      },
      "source": [
        "# II. Action models\n",
        "\n",
        "In crocoddyl, an action model combines dynamics and cost models. Each node, in our optimal control problem, is described through an action model. In order to describe a problem, we need to provide ways of computing the dynamics, the cost functions and their derivatives. All these are described inside the action model.\n",
        "\n",
        "To understand the mathematical aspects behind an action model, let's first get a locally linearize version of our optimal control problem as:\n",
        "\n",
        "$$\\mathbf{X}^*(\\mathbf{x}_0),\\mathbf{U}^*(\\mathbf{x}_0)\n",
        "=\n",
        "\\arg\\max_{\\mathbf{X},\\mathbf{U}} = cost_T(\\delta\\mathbf{x}_N) + \\sum_{k=1}^N cost_t(\\delta\\mathbf{x}_k, \\delta\\mathbf{u}_k)$$\n",
        "subject to\n",
        "$$dynamics(\\delta\\mathbf{x}_{k+1},\\delta\\mathbf{x}_k,\\delta\\mathbf{u}_k)=\\mathbf{0},$$\n",
        "\n",
        "where\n",
        "$$cost_T(\\delta\\mathbf{x}) = \\frac{1}{2}\n",
        "\\begin{bmatrix} \n",
        "  1 \\\\ \\delta\\mathbf{x}\n",
        "\\end{bmatrix}^\\top\n",
        "\\begin{bmatrix}\n",
        "0 & \\mathbf{l_x}^\\top \\\\\n",
        "\\mathbf{l_x} & \\mathbf{l_{xx}}\n",
        "\\end{bmatrix}\n",
        "\\begin{bmatrix}\n",
        "  1 \\\\ \\delta\\mathbf{x}\n",
        "\\end{bmatrix}\n",
        "$$\n",
        "\n",
        "$$cost_t(\\delta\\mathbf{x},\\delta\\mathbf{u}) = \\frac{1}{2}\n",
        "\\begin{bmatrix} \n",
        "  1 \\\\ \\delta\\mathbf{x} \\\\ \\delta\\mathbf{u}\n",
        "\\end{bmatrix}^\\top\n",
        "\\begin{bmatrix}\n",
        "0 & \\mathbf{l_x}^\\top & \\mathbf{l_u}^\\top\\\\\n",
        "\\mathbf{l_x} & \\mathbf{l_{xx}} & \\mathbf{l_{ux}}^\\top\\\\\n",
        "\\mathbf{l_u} & \\mathbf{l_{ux}} & \\mathbf{l_{uu}}\n",
        "\\end{bmatrix}\n",
        "\\begin{bmatrix}\n",
        "  1 \\\\ \\delta\\mathbf{x} \\\\ \\delta\\mathbf{u}\n",
        "\\end{bmatrix}\n",
        "$$\n",
        "\n",
        "$$\n",
        "dynamics(\\delta\\mathbf{x}_{k+1},\\delta\\mathbf{x}_k,\\delta\\mathbf{u}_k) = \\delta\\mathbf{x}_{k+1} - (\\mathbf{f_x}\\delta\\mathbf{x}_k + \\mathbf{f_u}\\delta\\mathbf{u}_k)\n",
        "$$\n",
        "\n",
        "where an action model defines a time interval of this problem:\n",
        " - $actions = dynamics + cost$\n",
        "\n",
        "### Important notes:\n",
        " - An action model describes the dynamics and cost functions for a node in our optimal control problem.\n",
        " - Action models lie in the discrete time space.\n",
        " - For debugging and prototyping, we have also implemented numerical differentiation (NumDiff) abstractions. These computations depend only on the definition of the dynamics equation and cost functions. However to asses efficiency, crocoddyl uses **analytical derivatives** computed from Pinocchio.\n",
        "\n",
        "\n",
        "## II.a Differential and Integrated Action Models\n",
        "Optimal control solvers require the time-discrete model of the cost and the dynamics. However, it's often convenient to implement them in continuous time (e.g. to combine with abstract integration rules). In crocoddyl, this continuous-time action models are called \"Differential Action Model (DAM)\". And together with predefined \"Integrated Action Models (IAM)\", it possible to retrieve the time-discrete action model.\n",
        "\n",
        "At the moment, we have:\n",
        " - a simpletic Euler and\n",
        " - a Runge-Kutte 4 integration rules.\n",
        "\n",
        "An optimal control problem can be written from a set of DAMs as:\n",
        "$$\\mathbf{X}^*(\\mathbf{x}_0),\\mathbf{U}^*(\\mathbf{x}_0)\n",
        "=\n",
        "\\arg\\max_{\\mathbf{X},\\mathbf{U}} = cost_T(\\delta\\mathbf{x}_N) + \\sum_{k=1}^N \\int_{t_k}^{t_k+\\Delta t} cost_t(\\delta\\mathbf{x}_k, \\delta\\mathbf{u}_k) dt$$\n",
        "subject to\n",
        "$$dynamics(\\delta\\mathbf{x}_{k+1},\\delta\\mathbf{x}_k,\\delta\\mathbf{u}_k)=\\mathbf{0},$$\n",
        "\n",
        "where\n",
        "$$cost_T(\\delta\\mathbf{x}) = \\frac{1}{2}\n",
        "\\begin{bmatrix} \n",
        "  1 \\\\ \\delta\\mathbf{x}\n",
        "\\end{bmatrix}^\\top\n",
        "\\begin{bmatrix}\n",
        "0 & \\mathbf{l_x}^\\top \\\\\n",
        "\\mathbf{l_x} & \\mathbf{l_{xx}}\n",
        "\\end{bmatrix}\n",
        "\\begin{bmatrix}\n",
        "  1 \\\\ \\delta\\mathbf{x}\n",
        "\\end{bmatrix}\n",
        "$$\n",
        "\n",
        "$$cost_t(\\delta\\mathbf{x},\\delta\\mathbf{u}) = \\frac{1}{2}\n",
        "\\begin{bmatrix} \n",
        "  1 \\\\ \\delta\\mathbf{x} \\\\ \\delta\\mathbf{u}\n",
        "\\end{bmatrix}^\\top\n",
        "\\begin{bmatrix}\n",
        "0 & \\mathbf{l_x}^\\top & \\mathbf{l_u}^\\top\\\\\n",
        "\\mathbf{l_x} & \\mathbf{l_{xx}} & \\mathbf{l_{ux}}^\\top\\\\\n",
        "\\mathbf{l_u} & \\mathbf{l_{ux}} & \\mathbf{l_{uu}}\n",
        "\\end{bmatrix}\n",
        "\\begin{bmatrix}\n",
        "  1 \\\\ \\delta\\mathbf{x} \\\\ \\delta\\mathbf{u}\n",
        "\\end{bmatrix}\n",
        "$$\n",
        "\n",
        "$$\n",
        "dynamics(\\delta\\mathbf{\\dot{x}},\\delta\\mathbf{x},\\delta\\mathbf{u}) = \\delta\\mathbf{\\dot{x}} - (\\mathbf{f_x}\\delta\\mathbf{x} + \\mathbf{f_u}\\delta\\mathbf{u})\n",
        "$$"
      ]
    },
    {
      "cell_type": "markdown",
      "metadata": {
        "id": "yRUW86A81qFd"
      },
      "source": [
        "### Building a differential action model for robot forward dynamics\n",
        "#### Loading the robot\n",
        "\n",
        "Crocoddyl offers several robot models for benchmarking our optimal control solvers (e.g. manipulators, humanoids, quadrupeds, etc). The collection of Talos models can be downloaded in Ubuntu with the APT package *robotpkg-talos-data*.\n",
        "\n",
        "Let's load a single Talos arm (left one):"
      ]
    },
    {
      "cell_type": "code",
      "source": [
        "%%capture\n",
        "!pip install crocoddyl"
      ],
      "metadata": {
        "id": "I_wRjmfE14fZ"
      },
      "execution_count": null,
      "outputs": []
    },
    {
      "cell_type": "code",
      "execution_count": null,
      "metadata": {
        "id": "GnbG1Yzt1qFd"
      },
      "outputs": [],
      "source": [
        "import crocoddyl\n",
        "import numpy as np\n",
        "import example_robot_data\n",
        "\n",
        "talos_arm = example_robot_data.load('talos_arm')\n",
        "robot_model = talos_arm.model # getting the Pinocchio model\n",
        "\n",
        "# Defining a initial state\n",
        "q0 = np.array([0.173046, 1., -0.52366, 0., 0., 0.1, -0.005])\n",
        "x0 = np.concatenate([q0, np.zeros(talos_arm.model.nv)])"
      ]
    },
    {
      "cell_type": "code",
      "source": [],
      "metadata": {
        "id": "Pik0IzgjM_t3"
      },
      "execution_count": null,
      "outputs": []
    },
    {
      "cell_type": "markdown",
      "metadata": {
        "id": "QZrN5tHs1qFe"
      },
      "source": [
        "### calc and calcDiff\n",
        "Optimal control solvers often need to compute a quadratic approximation of the action model (as previously described); this provides a search direction (computeDirection). Then it's needed to try the step along this direction (tryStep).\n",
        "\n",
        "Typically calc and calcDiff do the precomputations that are required before computeDirection and tryStep respectively (inside the solver). These functions update the information of:\n",
        " - **calc**: update the next state and its cost value\n",
        " $$\\delta\\mathbf{\\dot{x}}_{k+1} = \\mathbf{f}(\\delta\\mathbf{x}_k,\\mathbf{u}_k)$$\n",
        " - **calcDiff**: update the derivatives of the dynamics and cost (quadratic approximation)\n",
        " $$\\mathbf{f_x}, \\mathbf{f_u} \\hspace{1em} (dynamics)$$\n",
        " $$\\mathbf{l_x}, \\mathbf{l_u}, \\mathbf{l_{xx}}, \\mathbf{l_{ux}}, \\mathbf{l_{uu}} \\hspace{1em} (cost)$$\n",
        " \n",
        " **Crocoddyl put all information inside data**, so avoiding dynamic reallocation."
      ]
    },
    {
      "cell_type": "code",
      "execution_count": null,
      "metadata": {
        "id": "9hPtW-0x1qFf"
      },
      "outputs": [],
      "source": [
        "import pinocchio\n",
        "\n",
        "\n",
        "class DifferentialFwdDynamics(crocoddyl.DifferentialActionModelAbstract):\n",
        "    def __init__(self, state, costModel):\n",
        "        crocoddyl.DifferentialActionModelAbstract.__init__(self, state, state.nv, costModel.nr)\n",
        "        self.costs = costModel\n",
        "        self.enable_force = True\n",
        "        self.armature = np.zeros(0)\n",
        "\n",
        "    def calc(self, data, x, u=None):\n",
        "        if u is None:\n",
        "            u = self.unone\n",
        "        q, v = x[:self.state.nq], x[-self.state.nv:]\n",
        "        # Computing the dynamics using ABA or manually for armature case\n",
        "        if self.enable_force:\n",
        "            data.xout = pinocchio.aba(self.state.pinocchio, data.pinocchio, q, v, u)\n",
        "        else:\n",
        "            pinocchio.computeAllTerms(self.state.pinocchio, data.pinocchio, q, v)\n",
        "            data.M = data.pinocchio.M\n",
        "            if self.armature.size == self.state.nv:\n",
        "                data.M[range(self.state.nv), range(self.state.nv)] += self.armature\n",
        "            data.Minv = np.linalg.inv(data.M)\n",
        "            data.xout = data.Minv * (u - data.pinocchio.nle)\n",
        "        # Computing the cost value and residuals\n",
        "        pinocchio.forwardKinematics(self.state.pinocchio, data.pinocchio, q, v)\n",
        "        pinocchio.updateFramePlacements(self.state.pinocchio, data.pinocchio)\n",
        "        self.costs.calc(data.costs, x, u)\n",
        "        data.cost = data.costs.cost\n",
        "\n",
        "    def calcDiff(self, data, x, u=None):\n",
        "        q, v = x[:self.state.nq], x[-self.state.nv:]\n",
        "        if u is None:\n",
        "            u = self.unone\n",
        "        if True:\n",
        "            self.calc(data, x, u)\n",
        "        # Computing the dynamics derivatives\n",
        "        if self.enable_force:\n",
        "            pinocchio.computeABADerivatives(self.state.pinocchio, data.pinocchio, q, v, u)\n",
        "            data.Fx = np.hstack([data.pinocchio.ddq_dq, data.pinocchio.ddq_dv])\n",
        "            data.Fu = data.pinocchio.Minv\n",
        "        else:\n",
        "            pinocchio.computeRNEADerivatives(self.state.pinocchio, data.pinocchio, q, v, data.xout)\n",
        "            data.Fx = -np.hstack([data.Minv * data.pinocchio.dtau_dq, data.Minv * data.pinocchio.dtau_dv])\n",
        "            data.Fu = data.Minv\n",
        "        # Computing the cost derivatives\n",
        "        self.costs.calcDiff(data.costs, x, u)\n",
        "\n",
        "    def set_armature(self, armature):\n",
        "        if armature.size is not self.state.nv:\n",
        "            print('The armature dimension is wrong, we cannot set it.')\n",
        "        else:\n",
        "            self.enable_force = False\n",
        "            self.armature = armature.T\n",
        "\n",
        "    def createData(self):\n",
        "        data = crocoddyl.DifferentialActionModelAbstract.createData(self)\n",
        "        data.pinocchio = pinocchio.Data(self.state.pinocchio)\n",
        "        data.multibody = crocoddyl.DataCollectorMultibody(data.pinocchio)\n",
        "        data.costs = self.costs.createData(data.multibody)\n",
        "        data.costs.shareMemory(data) # this allows us to share the memory of cost-terms of action model\n",
        "        return data"
      ]
    },
    {
      "cell_type": "markdown",
      "metadata": {
        "id": "Kq1jQTF11qFf"
      },
      "source": [
        "## II.b State and its integrate and difference rules\n",
        "General speaking, the system's state can lie in a manifold $M$ where the state rate of change lies in its tangent space $T_\\mathbf{x}M$. There are few operators that needs to be defined for different rutines inside our solvers:\n",
        "  - $\\mathbf{x}_{k+1} = integrate(\\mathbf{x}_k,\\delta\\mathbf{x}_k) = \\mathbf{x}_k \\oplus \\delta\\mathbf{x}_k$\n",
        "  - $\\delta\\mathbf{x}_k = difference(\\mathbf{x}_{k+1},\\mathbf{x}_k) = \\mathbf{x}_{k+1} \\ominus \\mathbf{x}_k$\n",
        "\n",
        "where $\\mathbf{x}\\in M$ and $\\delta\\mathbf{x}\\in T_\\mathbf{x} M$.\n",
        " \n",
        "\n",
        "And we also need to defined the Jacobians of these operators with respect to the first and second arguments:\n",
        "  - $\\frac{\\partial \\mathbf{x}\\oplus\\delta\\mathbf{x}}{\\partial \\mathbf{x}}, \\frac{\\partial \\mathbf{x}\\oplus\\delta\\mathbf{x}}{\\partial\\delta\\mathbf{x}} =Jintegrante(\\mathbf{x},\\delta\\mathbf{x})$\n",
        "  - $\\frac{\\partial\\mathbf{x}_2\\ominus\\mathbf{x}_2}{\\partial \\mathbf{x}_1}, \\frac{\\partial \\mathbf{x}_2\\ominus\\mathbf{x}_1}{\\partial\\mathbf{x}_1} =Jdifference(\\mathbf{x}_2,\\mathbf{x}_1)$\n",
        "\n",
        "For instance, a state that lies in the Euclidean space will the typical operators:\n",
        "  - $integrate(\\mathbf{x},\\delta\\mathbf{x}) = \\mathbf{x} + \\delta\\mathbf{x}$\n",
        "  - $difference(\\mathbf{x}_2,\\mathbf{x}_1) = \\mathbf{x}_2 - \\mathbf{x}_1$\n",
        "  - $Jintegrate(\\cdot,\\cdot) = Jdifference(\\cdot,\\cdot) = \\mathbf{I}$\n",
        "  \n",
        "\n",
        "These defines inare encapsulate inside the State class. **For Pinocchio models, we have implemented the StatePinocchio class which can be used for any robot model**."
      ]
    },
    {
      "cell_type": "markdown",
      "metadata": {
        "id": "bNW76vIp1qFg"
      },
      "source": [
        "# III. Solving optimal control problems with DDP\n",
        "\n",
        "## III.a ABA dynamics for reaching a goal with Talos arm\n",
        "\n",
        "Our optimal control solver interacts with a defined ShootingProblem. A shooting problem represents a stack of action models in which an action model defines a specific node along the OC problem.\n",
        "\n",
        "First we need to create an action model from DifferentialFwdDynamics. We use it for building terminal and running action models. In this example, we employ an simpletic Euler integration rule.\n",
        "\n",
        "Next we define the set of cost functions for this problem. For this particular example, we formulate three running-cost functions:\n",
        "\n",
        "    goal-tracking cost, 𝑙𝑜𝑔(𝑓𝑋𝑑𝑜𝑜𝑋𝑓)\n",
        "\n",
        "state and control regularization; and ‖𝐱−𝐱𝑟𝑒𝑓‖,‖𝐮‖\n",
        "\n",
        "one terminal-cost:\n",
        "\n",
        "    goal cost. ‖𝐮𝑇‖\n",
        "\n",
        "First, let's create the common cost functions."
      ]
    },
    {
      "cell_type": "code",
      "execution_count": null,
      "metadata": {
        "id": "puyd0sT01qFg"
      },
      "outputs": [],
      "source": [
        "# Create the cost functions\n",
        "target = np.array([0.4, 0., .4])\n",
        "state = crocoddyl.StateMultibody(robot_model)\n",
        "frameTranslationResidual = crocoddyl.ResidualModelFrameTranslation(state,\n",
        "                                            robot_model.getFrameId(\"gripper_left_joint\"),\n",
        "                                            target)\n",
        "goalTrackingCost = crocoddyl.CostModelResidual(state, frameTranslationResidual)\n",
        "xRegCost = crocoddyl.CostModelResidual(state, crocoddyl.ResidualModelState(state))\n",
        "uRegCost = crocoddyl.CostModelResidual(state, crocoddyl.ResidualModelControl(state))\n",
        "\n",
        "# Create cost model per each action model\n",
        "runningCostModel = crocoddyl.CostModelSum(state)\n",
        "terminalCostModel = crocoddyl.CostModelSum(state)\n",
        "\n",
        "# Then let's added the running and terminal cost functions\n",
        "runningCostModel.addCost(\"gripperPose\", goalTrackingCost, 1e2)\n",
        "runningCostModel.addCost(\"stateReg\", xRegCost, 1e-4)\n",
        "runningCostModel.addCost(\"ctrlReg\", uRegCost, 1e-7)\n",
        "terminalCostModel.addCost(\"gripperPose\", goalTrackingCost, 1e5)\n",
        "terminalCostModel.addCost(\"stateReg\", xRegCost, 1e-4)\n",
        "terminalCostModel.addCost(\"ctrlReg\", uRegCost, 1e-7)\n",
        "\n",
        "# Running and terminal action models\n",
        "DT = 1e-3\n",
        "actuationModel = crocoddyl.ActuationModelFull(state)\n",
        "runningModel = crocoddyl.IntegratedActionModelEuler(\n",
        "    crocoddyl.DifferentialActionModelFreeFwdDynamics(state, actuationModel, runningCostModel), DT)\n",
        "terminalModel = crocoddyl.IntegratedActionModelEuler(\n",
        "    crocoddyl.DifferentialActionModelFreeFwdDynamics(state, actuationModel, terminalCostModel), 0.)"
      ]
    },
    {
      "cell_type": "markdown",
      "metadata": {
        "id": "9Rg_uKTf1qFh"
      },
      "source": [
        "We create a trajectory with 250 knots"
      ]
    },
    {
      "cell_type": "code",
      "execution_count": null,
      "metadata": {
        "id": "OxsAR46-1qFh"
      },
      "outputs": [],
      "source": [
        "# For this optimal control problem, we define 250 knots (or running action\n",
        "# models) plus a terminal knot\n",
        "T = 250\n",
        "problem = crocoddyl.ShootingProblem(x0, [runningModel] * T, terminalModel)"
      ]
    },
    {
      "cell_type": "markdown",
      "metadata": {
        "id": "Vb2xXFSp1qFh"
      },
      "source": [
        "Onces we have defined our shooting problem, we create a DDP solver object and pass some callback functions for analysing  its performance.\n",
        "\n",
        "Please note that:\n",
        "- CallbackDDPLogger: store the solution information.\n",
        "- CallbackDDPVerbose(level): printing message during the iterates.\n",
        "- CallbackDisplay(robot,rate): display the state trajectory using Gepetto viewer."
      ]
    },
    {
      "cell_type": "code",
      "execution_count": null,
      "metadata": {
        "colab": {
          "base_uri": "https://localhost:8080/",
          "height": 519
        },
        "id": "F7UG3Mtq1qFh",
        "outputId": "bda121de-4547-48ea-f554-185f578a11aa"
      },
      "outputs": [
        {
          "output_type": "error",
          "ename": "ModuleNotFoundError",
          "evalue": "ignored",
          "traceback": [
            "\u001b[0;31m---------------------------------------------------------------------------\u001b[0m",
            "\u001b[0;31mModuleNotFoundError\u001b[0m                       Traceback (most recent call last)",
            "\u001b[0;32m<ipython-input-8-859bcd652ed6>\u001b[0m in \u001b[0;36m<module>\u001b[0;34m\u001b[0m\n\u001b[1;32m      5\u001b[0m \u001b[0;31m# Using the meshcat displayer, you could enable gepetto viewer for nicer view\u001b[0m\u001b[0;34m\u001b[0m\u001b[0;34m\u001b[0m\u001b[0;34m\u001b[0m\u001b[0m\n\u001b[1;32m      6\u001b[0m \u001b[0;31m# display = crocoddyl.GepettoDisplay(talos_arm, 4, 4)\u001b[0m\u001b[0;34m\u001b[0m\u001b[0;34m\u001b[0m\u001b[0;34m\u001b[0m\u001b[0m\n\u001b[0;32m----> 7\u001b[0;31m \u001b[0mdisplay\u001b[0m \u001b[0;34m=\u001b[0m \u001b[0mcrocoddyl\u001b[0m\u001b[0;34m.\u001b[0m\u001b[0mMeshcatDisplay\u001b[0m\u001b[0;34m(\u001b[0m\u001b[0mtalos_arm\u001b[0m\u001b[0;34m,\u001b[0m \u001b[0;36m4\u001b[0m\u001b[0;34m,\u001b[0m \u001b[0;36m4\u001b[0m\u001b[0;34m,\u001b[0m \u001b[0;32mFalse\u001b[0m\u001b[0;34m)\u001b[0m\u001b[0;34m\u001b[0m\u001b[0;34m\u001b[0m\u001b[0m\n\u001b[0m\u001b[1;32m      8\u001b[0m ddp.setCallbacks([log,\n\u001b[1;32m      9\u001b[0m                   \u001b[0mcrocoddyl\u001b[0m\u001b[0;34m.\u001b[0m\u001b[0mCallbackVerbose\u001b[0m\u001b[0;34m(\u001b[0m\u001b[0;34m)\u001b[0m\u001b[0;34m,\u001b[0m\u001b[0;34m\u001b[0m\u001b[0;34m\u001b[0m\u001b[0m\n",
            "\u001b[0;32m/usr/local/lib/python3.7/dist-packages/crocoddyl/__init__.py\u001b[0m in \u001b[0;36m__init__\u001b[0;34m(self, robot, rate, freq, openWindow)\u001b[0m\n\u001b[1;32m    322\u001b[0m                                                   \u001b[0mcollision_model\u001b[0m\u001b[0;34m=\u001b[0m\u001b[0mself\u001b[0m\u001b[0;34m.\u001b[0m\u001b[0mrobot\u001b[0m\u001b[0;34m.\u001b[0m\u001b[0mcollision_model\u001b[0m\u001b[0;34m,\u001b[0m\u001b[0;34m\u001b[0m\u001b[0;34m\u001b[0m\u001b[0m\n\u001b[1;32m    323\u001b[0m                                                   visual_model=self.robot.visual_model))\n\u001b[0;32m--> 324\u001b[0;31m         \u001b[0mself\u001b[0m\u001b[0;34m.\u001b[0m\u001b[0m_addRobot\u001b[0m\u001b[0;34m(\u001b[0m\u001b[0mopenWindow\u001b[0m\u001b[0;34m)\u001b[0m\u001b[0;34m\u001b[0m\u001b[0;34m\u001b[0m\u001b[0m\n\u001b[0m\u001b[1;32m    325\u001b[0m \u001b[0;34m\u001b[0m\u001b[0m\n\u001b[1;32m    326\u001b[0m     \u001b[0;32mdef\u001b[0m \u001b[0mdisplay\u001b[0m\u001b[0;34m(\u001b[0m\u001b[0mself\u001b[0m\u001b[0;34m,\u001b[0m \u001b[0mxs\u001b[0m\u001b[0;34m,\u001b[0m \u001b[0mfs\u001b[0m\u001b[0;34m=\u001b[0m\u001b[0;34m[\u001b[0m\u001b[0;34m]\u001b[0m\u001b[0;34m,\u001b[0m \u001b[0mps\u001b[0m\u001b[0;34m=\u001b[0m\u001b[0;34m[\u001b[0m\u001b[0;34m]\u001b[0m\u001b[0;34m,\u001b[0m \u001b[0mdts\u001b[0m\u001b[0;34m=\u001b[0m\u001b[0;34m[\u001b[0m\u001b[0;34m]\u001b[0m\u001b[0;34m,\u001b[0m \u001b[0mfactor\u001b[0m\u001b[0;34m=\u001b[0m\u001b[0;36m1.\u001b[0m\u001b[0;34m)\u001b[0m\u001b[0;34m:\u001b[0m\u001b[0;34m\u001b[0m\u001b[0;34m\u001b[0m\u001b[0m\n",
            "\u001b[0;32m/usr/local/lib/python3.7/dist-packages/crocoddyl/__init__.py\u001b[0m in \u001b[0;36m_addRobot\u001b[0;34m(self, openWindow)\u001b[0m\n\u001b[1;32m    336\u001b[0m     \u001b[0;32mdef\u001b[0m \u001b[0m_addRobot\u001b[0m\u001b[0;34m(\u001b[0m\u001b[0mself\u001b[0m\u001b[0;34m,\u001b[0m \u001b[0mopenWindow\u001b[0m\u001b[0;34m)\u001b[0m\u001b[0;34m:\u001b[0m\u001b[0;34m\u001b[0m\u001b[0;34m\u001b[0m\u001b[0m\n\u001b[1;32m    337\u001b[0m         \u001b[0;31m# Spawn robot model\u001b[0m\u001b[0;34m\u001b[0m\u001b[0;34m\u001b[0m\u001b[0;34m\u001b[0m\u001b[0m\n\u001b[0;32m--> 338\u001b[0;31m         \u001b[0mself\u001b[0m\u001b[0;34m.\u001b[0m\u001b[0mrobot\u001b[0m\u001b[0;34m.\u001b[0m\u001b[0minitViewer\u001b[0m\u001b[0;34m(\u001b[0m\u001b[0mopen\u001b[0m\u001b[0;34m=\u001b[0m\u001b[0mopenWindow\u001b[0m\u001b[0;34m)\u001b[0m\u001b[0;34m\u001b[0m\u001b[0;34m\u001b[0m\u001b[0m\n\u001b[0m\u001b[1;32m    339\u001b[0m         \u001b[0mself\u001b[0m\u001b[0;34m.\u001b[0m\u001b[0mrobot\u001b[0m\u001b[0;34m.\u001b[0m\u001b[0mloadViewerModel\u001b[0m\u001b[0;34m(\u001b[0m\u001b[0mrootNodeName\u001b[0m\u001b[0;34m=\u001b[0m\u001b[0;34m\"robot\"\u001b[0m\u001b[0;34m)\u001b[0m\u001b[0;34m\u001b[0m\u001b[0;34m\u001b[0m\u001b[0m\n\u001b[1;32m    340\u001b[0m \u001b[0;34m\u001b[0m\u001b[0m\n",
            "\u001b[0;32m/usr/local/lib/python3.7/dist-packages/pinocchio/robot_wrapper.py\u001b[0m in \u001b[0;36minitViewer\u001b[0;34m(self, *args, **kwargs)\u001b[0m\n\u001b[1;32m    270\u001b[0m             \u001b[0mself\u001b[0m\u001b[0;34m.\u001b[0m\u001b[0mviz\u001b[0m \u001b[0;34m=\u001b[0m \u001b[0mGepettoVisualizer\u001b[0m\u001b[0;34m(\u001b[0m\u001b[0mself\u001b[0m\u001b[0;34m.\u001b[0m\u001b[0mmodel\u001b[0m\u001b[0;34m,\u001b[0m \u001b[0mself\u001b[0m\u001b[0;34m.\u001b[0m\u001b[0mcollision_model\u001b[0m\u001b[0;34m,\u001b[0m \u001b[0mself\u001b[0m\u001b[0;34m.\u001b[0m\u001b[0mvisual_model\u001b[0m\u001b[0;34m)\u001b[0m\u001b[0;34m\u001b[0m\u001b[0;34m\u001b[0m\u001b[0m\n\u001b[1;32m    271\u001b[0m \u001b[0;34m\u001b[0m\u001b[0m\n\u001b[0;32m--> 272\u001b[0;31m         \u001b[0mself\u001b[0m\u001b[0;34m.\u001b[0m\u001b[0mviz\u001b[0m\u001b[0;34m.\u001b[0m\u001b[0minitViewer\u001b[0m\u001b[0;34m(\u001b[0m\u001b[0;34m*\u001b[0m\u001b[0margs\u001b[0m\u001b[0;34m,\u001b[0m \u001b[0;34m**\u001b[0m\u001b[0mkwargs\u001b[0m\u001b[0;34m)\u001b[0m\u001b[0;34m\u001b[0m\u001b[0;34m\u001b[0m\u001b[0m\n\u001b[0m\u001b[1;32m    273\u001b[0m \u001b[0;34m\u001b[0m\u001b[0m\n\u001b[1;32m    274\u001b[0m     \u001b[0;34m@\u001b[0m\u001b[0mdeprecated\u001b[0m\u001b[0;34m(\u001b[0m\u001b[0;34m\"Use initViewer\"\u001b[0m\u001b[0;34m)\u001b[0m\u001b[0;34m\u001b[0m\u001b[0;34m\u001b[0m\u001b[0m\n",
            "\u001b[0;32m/usr/local/lib/python3.7/dist-packages/pinocchio/visualize/meshcat_visualizer.py\u001b[0m in \u001b[0;36minitViewer\u001b[0;34m(self, viewer, open, loadModel)\u001b[0m\n\u001b[1;32m    119\u001b[0m         \"\"\"\n\u001b[1;32m    120\u001b[0m \u001b[0;34m\u001b[0m\u001b[0m\n\u001b[0;32m--> 121\u001b[0;31m         \u001b[0;32mimport\u001b[0m \u001b[0mmeshcat\u001b[0m\u001b[0;34m\u001b[0m\u001b[0;34m\u001b[0m\u001b[0m\n\u001b[0m\u001b[1;32m    122\u001b[0m \u001b[0;34m\u001b[0m\u001b[0m\n\u001b[1;32m    123\u001b[0m         \u001b[0mself\u001b[0m\u001b[0;34m.\u001b[0m\u001b[0mviewer\u001b[0m \u001b[0;34m=\u001b[0m \u001b[0mmeshcat\u001b[0m\u001b[0;34m.\u001b[0m\u001b[0mVisualizer\u001b[0m\u001b[0;34m(\u001b[0m\u001b[0;34m)\u001b[0m \u001b[0;32mif\u001b[0m \u001b[0mviewer\u001b[0m \u001b[0;32mis\u001b[0m \u001b[0;32mNone\u001b[0m \u001b[0;32melse\u001b[0m \u001b[0mviewer\u001b[0m\u001b[0;34m\u001b[0m\u001b[0;34m\u001b[0m\u001b[0m\n",
            "\u001b[0;31mModuleNotFoundError\u001b[0m: No module named 'meshcat'",
            "",
            "\u001b[0;31m---------------------------------------------------------------------------\u001b[0;32m\nNOTE: If your import is failing due to a missing package, you can\nmanually install dependencies using either !pip or !apt.\n\nTo view examples of installing some common dependencies, click the\n\"Open Examples\" button below.\n\u001b[0;31m---------------------------------------------------------------------------\u001b[0m\n"
          ],
          "errorDetails": {
            "actions": [
              {
                "action": "open_url",
                "actionText": "Open Examples",
                "url": "/notebooks/snippets/importing_libraries.ipynb"
              }
            ]
          }
        }
      ],
      "source": [
        "# Creating the DDP solver for this OC problem, defining a logger\n",
        "ddp = crocoddyl.SolverDDP(problem)\n",
        "log = crocoddyl.CallbackLogger()\n",
        "\n",
        "# Using the meshcat displayer, you could enable gepetto viewer for nicer view\n",
        "# display = crocoddyl.GepettoDisplay(talos_arm, 4, 4)\n",
        "display = crocoddyl.MeshcatDisplay(talos_arm, 4, 4, False)\n",
        "ddp.setCallbacks([log,\n",
        "                  crocoddyl.CallbackVerbose(),\n",
        "                  crocoddyl.CallbackDisplay(display)])"
      ]
    },
    {
      "cell_type": "code",
      "execution_count": null,
      "metadata": {
        "id": "RH5dIdNj1qFi",
        "outputId": "7f514bac-5244-437b-eda0-5064704ce864"
      },
      "outputs": [
        {
          "data": {
            "text/html": [
              "\n",
              "<div style=\"height: 400px; width: 600px; overflow-x: auto; overflow-y: hidden; resize: both\">\n",
              "<iframe src=\"http://127.0.0.1:7001/static/\" style=\"width: 100%; height: 100%; border: none\"></iframe>\n",
              "</div>\n"
            ],
            "text/plain": [
              "<IPython.core.display.HTML object>"
            ]
          },
          "execution_count": 13,
          "metadata": {},
          "output_type": "execute_result"
        }
      ],
      "source": [
        "# Emdebbed meshcat in this cell\n",
        "display.robot.viewer.jupyter_cell()"
      ]
    },
    {
      "cell_type": "code",
      "execution_count": null,
      "metadata": {
        "id": "VkbytGZg1qFi",
        "outputId": "b27fb57d-0d36-4f13-d0f0-ed1cb9493aef"
      },
      "outputs": [
        {
          "name": "stdout",
          "output_type": "stream",
          "text": [
            "\n",
            "The reached pose by the wrist is\n",
            "  R =\n",
            "-0.227356  0.695555  0.681552\n",
            "-0.961861 -0.269711  -0.04561\n",
            " 0.152098 -0.665928  0.730347\n",
            "  p =   0.379547 -0.0466406   0.421906\n",
            "\n"
          ]
        }
      ],
      "source": [
        "# Solving it with the DDP algorithm\n",
        "ddp.solve()\n",
        "\n",
        "# Printing the reached position\n",
        "frame_idx = talos_arm.model.getFrameId(\"gripper_left_joint\")\n",
        "xT = ddp.xs[-1]\n",
        "qT = xT[:talos_arm.model.nq]\n",
        "print\n",
        "print \"The reached pose by the wrist is\"\n",
        "print talos_arm.framePlacement(qT, frame_idx)"
      ]
    },
    {
      "cell_type": "markdown",
      "metadata": {
        "id": "3vIOAVf61qFj"
      },
      "source": [
        "Let's plot the results and display final trajectory"
      ]
    },
    {
      "cell_type": "code",
      "execution_count": null,
      "metadata": {
        "id": "o_nKOsB71qFj"
      },
      "outputs": [],
      "source": [
        "%matplotlib inline\n",
        "# # Plotting the solution and the DDP convergence\n",
        "crocoddyl.plotOCSolution(log.xs, log.us)\n",
        "crocoddyl.plotConvergence(log.costs, log.u_regs, log.x_regs, log.grads, log.stops, log.steps)\n",
        "\n",
        "# Visualizing the solution in gepetto-viewer\n",
        "display.displayFromSolver(ddp)"
      ]
    },
    {
      "cell_type": "markdown",
      "metadata": {
        "id": "nVpk4Kex1qFj"
      },
      "source": [
        "## III.b Multi-Contact dynamics for biped walking (Talos legs)\n",
        "In crocoddyl, we can describe the multi-contact dynamics through holonomic constraints for the support legs. From the Gauss principle, we have derived the model as:\n",
        "$$\n",
        "\\left[\\begin{matrix}\n",
        " \\mathbf{M} & \\mathbf{J}^{\\top}_c \\\\\n",
        " {\\mathbf{J}_{c}} & \\mathbf{0} \\\\\n",
        "\\end{matrix}\\right]\n",
        "\\left[\\begin{matrix}\n",
        " \\dot{\\mathbf{v}} \\\\ -\\boldsymbol{\\lambda}\n",
        "\\end{matrix}\\right]\n",
        " = \n",
        "\\left[\\begin{matrix}\n",
        "  \\boldsymbol{\\tau} - \\mathbf{h} \\\\\n",
        "  -\\dot{\\mathbf{J}}_c \\mathbf{v} \\\\\n",
        "\\end{matrix}\\right]$$.\n",
        "\n",
        "This DAM is defined in \"DifferentialActionModelFloatingInContact\" class.\n",
        "\n",
        "Given a predefined contact sequence and timings, we build per each phase a specific multi-contact dynamics. Indeed we need to describe multi-phase optimal control problem. One can formulate the multi-contact optimal control problem (MCOP) as follows:\n",
        "\n",
        "\n",
        "$$\\mathbf{X}^*,\\mathbf{U}^*=\n",
        "\\begin{Bmatrix} \\mathbf{x}^*_0,\\cdots,\\mathbf{x}^*_N \\\\\n",
        "\t\t\t\t  \\mathbf{u}^*_0,\\cdots,\\mathbf{u}^*_N\n",
        "\\end{Bmatrix} =\n",
        "\\arg\\min_{\\mathbf{X},\\mathbf{U}} \\sum_{p=0}^P \\sum_{k=1}^{N(p)} \\int_{t_k}^{t_k+\\Delta t} l_p(\\mathbf{x},\\mathbf{u})dt$$\n",
        "subject to\n",
        "$$ \\mathbf{\\dot{x}} = \\mathbf{f}_p(\\mathbf{x},\\mathbf{u}), \\text{for } t \\in [\\tau_p,\\tau_{p+1}]$$\n",
        "\n",
        "$$ \\mathbf{g}(\\mathbf{v}^{p+1},\\mathbf{v}^p) = \\mathbf{0}$$\n",
        "\n",
        "$$ \\mathbf{x}\\in\\mathcal{X}_p, \\mathbf{u}\\in\\mathcal{U}_p, \\boldsymbol{\\lambda}\\in\\mathcal{K}_p.$$\n",
        "\n",
        "where $\\mathbf{g}(\\cdot,\\cdot,\\cdot)$ describes the contact dynamics, and they represents terminal constraints in each walking phase. In this example we use the following impact model:\n",
        "\n",
        "$$\\mathbf{M}(\\mathbf{v}_{next}-\\mathbf{v}) = \\mathbf{J}_{impulse}^T$$\n",
        "\n",
        "$$\\mathbf{J}_{impulse} \\mathbf{v}_{next} = \\mathbf{0}$$\n",
        "\n",
        "$$\\mathbf{J}_{c} \\mathbf{v}_{next} = \\mathbf{J}_{c} \\mathbf{v}$$\n",
        "\n",
        "### Note:\n",
        "You can find an example of such kind of problems in bipedal_walking_from_foot_traj.ipynb."
      ]
    },
    {
      "cell_type": "markdown",
      "metadata": {
        "id": "voJ-kgrp1qFj"
      },
      "source": [
        "## Reference\n",
        "\n",
        "The material presented in this Notebook was previously presented at the ICRA at 2020. For more information, please read the following paper:\n",
        "\n",
        "C. Mastalli et al. Crocoddyl: An Efficient and Versatile Framework for Multi-Contact Optimal Control, 2020"
      ]
    },
    {
      "cell_type": "code",
      "execution_count": null,
      "metadata": {
        "id": "dKjOUcD_1qFj"
      },
      "outputs": [],
      "source": [
        "from IPython.display import HTML\n",
        "\n",
        "# Youtube\n",
        "HTML('<iframe width=\"560\" height=\"315\" src=\"https://www.youtube.com/embed/nTeiHioEO4w\" frameborder=\"0\" allow=\"accelerometer; autoplay; encrypted-media; gyroscope; picture-in-picture\" allowfullscreen></iframe>')"
      ]
    },
    {
      "cell_type": "markdown",
      "metadata": {
        "id": "owXIQxps1qFk"
      },
      "source": [
        "\n",
        "\n",
        "![title](https://cmastalli.github.io/assets/img/publications/astronaut360_v2.png)"
      ]
    }
  ],
  "metadata": {
    "celltoolbar": "Attachments",
    "kernelspec": {
      "display_name": "Python 2",
      "language": "python",
      "name": "python2"
    },
    "language_info": {
      "codemirror_mode": {
        "name": "ipython",
        "version": 2
      },
      "file_extension": ".py",
      "mimetype": "text/x-python",
      "name": "python",
      "nbconvert_exporter": "python",
      "pygments_lexer": "ipython2",
      "version": "2.7.17"
    },
    "colab": {
      "provenance": [],
      "include_colab_link": true
    }
  },
  "nbformat": 4,
  "nbformat_minor": 0
}