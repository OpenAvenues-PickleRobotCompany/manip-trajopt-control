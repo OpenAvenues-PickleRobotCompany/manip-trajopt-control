{
 "cells": [
  {
   "cell_type": "markdown",
   "metadata": {},
   "source": [
    "## Introduction"
   ]
  },
  {
   "cell_type": "markdown",
   "metadata": {},
   "source": [
    "The `typing` module enables you to specify what *types* of inputs and outputs you expect a functions parameters and return values to be.\n",
    "\n",
    "For example:\n",
    "\n",
    "```python\n",
    "def greeting(name: str) -> str\n",
    "    return \"Hello\" + name\n",
    "```\n",
    "\n",
    "Also enables you to `def`ine your own types from more primitive types\n",
    "\n",
    "```python\n",
    "Vector = list[str]\n",
    "```\n",
    "\n",
    "As well as define and nest more complex data structures easily and comprehensibily\n",
    "\n",
    "------------------------------------------\n",
    "\n",
    "Now `pybullet` is a module used for:\n",
    "* Forward kinematics\n",
    "* Inverse kinamatics\n",
    "* Collision detection\n",
    "\n",
    "For more information about pybullet functions, see [documentation](https://docs.google.com/document/d/10sXEhzFRSnvFcl3XxNGhnD4N2SedqwdAvK3dsihxVUA/edit#) "
   ]
  },
  {
   "cell_type": "markdown",
   "metadata": {},
   "source": [
    "Remember the syntax for initializing an object in python (class constructor):\n",
    "\n",
    "```python\n",
    "def __init__(self, param1, param2):\n",
    "    self.param1 = param1\n",
    "    self.param2 = param2\n",
    "```"
   ]
  },
  {
   "cell_type": "markdown",
   "metadata": {},
   "source": [
    "Here we create aliases for two types of data structures. Specifically 2-tuples of floats (e.g. (5.2, 6.1))\n",
    "* Bounds = Give the *interval of rotation* a given revolute can rotate [e.g. (-pi/2,pi/2)]\n",
    "* XY = *(x,y)-coordinates* of the end effector\n",
    "* Relative Pose of each revolute (given by an angle)\n"
   ]
  },
  {
   "cell_type": "code",
   "execution_count": 2,
   "metadata": {},
   "outputs": [],
   "source": [
    "from typing import Any, Optional\n",
    "import pybullet as p"
   ]
  },
  {
   "cell_type": "code",
   "execution_count": 3,
   "metadata": {},
   "outputs": [],
   "source": [
    "BOUNDS = tuple[float, float]\n",
    "XY = tuple[float, float]\n",
    "CONFIG = tuple[float, float]"
   ]
  },
  {
   "cell_type": "markdown",
   "metadata": {},
   "source": [
    "## Robot2R"
   ]
  },
  {
   "cell_type": "code",
   "execution_count": 4,
   "metadata": {},
   "outputs": [],
   "source": [
    "import math \n",
    "class Robot2R:\n",
    "    CONFIG = tuple[float, float]\n",
    "\n",
    "    def __init__(self,\n",
    "                 link_lengths: tuple[float,\n",
    "                                     float],\n",
    "                 bounds: Optional[tuple[BOUNDS,\n",
    "                                        BOUNDS]] = None) -> None:\n",
    "                                        self.l1 = link_lengths[0]\n",
    "                                        self.l2 = link_lengths[1]\n",
    "\n",
    "    def forward_kinematics(self, configuration: CONFIG) -> XY:\n",
    "        l1, l2= self.l1, self.l2\n",
    "        theta1, theta2 = configuration[0], configuration[1]\n",
    "         \n",
    "        x = l1*math.cos(theta1) + l2*math.cos(theta1 + theta2)\n",
    "        y = l1*math.sin(theta1) + l2*math.sin(theta1 + theta2)\n",
    "\n",
    "        return (x,y)\n",
    "\n",
    "    def inverse_kinematics(self, end_effector_position: XY) -> CONFIG:\n",
    "        # a2 and a1 are angles\n",
    "        # arccosine is always positive\n",
    "        x, y = end_effector_position[0], end_effector_position[1]\n",
    "        l1, l2= self.l1, self.l2\n",
    "\n",
    "        # Be careful about 0 division errors\n",
    "        a2 = math.acos((x**2 + y**2 - l1**2 - l2**2) / (2*l1*l2))\n",
    "        if x != 0:\n",
    "            a1 = math.atan(y/x) - math.atan((l2*math.sin(a2)) / (l1 + l2 * math.cos(a2)))\n",
    "        else: \n",
    "            a1 = math.pi/2 - math.atan((l2*math.sin(a2)) / (l1 + l2 * math.cos(a2)))\n",
    "        return (a1, a2)\n",
    "        \n"
   ]
  },
  {
   "cell_type": "markdown",
   "metadata": {},
   "source": [
    "Remember the syntax for initializing an object in python (class constructor):\n",
    "\n",
    "```python\n",
    "def __init__(self, param1, param2):\n",
    "    self.param1 = param1\n",
    "    self.param2 = param2\n",
    "```"
   ]
  },
  {
   "cell_type": "markdown",
   "metadata": {},
   "source": [
    "**Testing**"
   ]
  },
  {
   "cell_type": "code",
   "execution_count": 5,
   "metadata": {},
   "outputs": [],
   "source": [
    "# Length of robot links (rigid bodies)\n",
    "link_lengths_2R = (50.0, 40.0)\n",
    "\n",
    "# Creating 2R robot\n",
    "testRobot = Robot2R(link_lengths_2R)"
   ]
  },
  {
   "cell_type": "code",
   "execution_count": 6,
   "metadata": {},
   "outputs": [
    {
     "name": "stdout",
     "output_type": "stream",
     "text": [
      "(40.0, 50.0) should be 40, 50\n",
      "(78.2842712474619, 28.284271247461902) should be 78.2842712474619 28.284271247461902\n"
     ]
    }
   ],
   "source": [
    "############ Forward Kinematics Tests #############\n",
    "pi = math.pi\n",
    "configuration1 = (pi/2,-pi/2)\n",
    "test1 = testRobot.forward_kinematics(configuration1)\n",
    "print(test1, \"should be 40, 50\")\n",
    "\n",
    "configuration2 = (0, pi/4)\n",
    "test2 = testRobot.forward_kinematics(configuration2)\n",
    "print(test2, \"should be\", 50 + 40*math.cos(pi/4), 40*math.sin(pi/4))"
   ]
  },
  {
   "cell_type": "code",
   "execution_count": 7,
   "metadata": {},
   "outputs": [
    {
     "name": "stdout",
     "output_type": "stream",
     "text": [
      "(43.6, 54.8) should be  (43.6, 54.8)\n",
      "(5.5109105961630896e-15, 90.0) should be  (0, 90)\n"
     ]
    }
   ],
   "source": [
    "############# Inverse Kinematics Tests #############\n",
    "XY = (43.6, 54.8)\n",
    "test1 = testRobot.inverse_kinematics(XY)\n",
    "print(testRobot.forward_kinematics(test1), \"should be \", XY)\n",
    "\n",
    "XY = (0,90)\n",
    "test2 = testRobot.inverse_kinematics(XY)\n",
    "print(testRobot.forward_kinematics(test2), \"should be \", XY)"
   ]
  },
  {
   "cell_type": "markdown",
   "metadata": {},
   "source": [
    "## Robot3R"
   ]
  },
  {
   "cell_type": "markdown",
   "metadata": {},
   "source": [
    "Here we implement the robot with three revolute joints."
   ]
  },
  {
   "cell_type": "markdown",
   "metadata": {},
   "source": [
    "*Specifications*\n",
    "\n",
    "Link Lengths:  $(60 cm, 40 cm, 30 cm)$\n",
    "\n",
    "Maximum Angles:  $([-2pi, 2pi], [-3/4pi, 3/4pi], [-3/4pi, 3/4pi])$"
   ]
  },
  {
   "cell_type": "code",
   "execution_count": 46,
   "metadata": {},
   "outputs": [],
   "source": [
    "import numpy as np\n",
    "\n",
    "class Robot3R:\n",
    "    CONFIG = tuple[float, float, float]\n",
    "    XYZ = tuple[float, float, float]\n",
    "\n",
    "    def __init__(self,\n",
    "                 link_lengths: tuple[float, float, float],\n",
    "                 bounds: Optional[tuple[BOUNDS, BOUNDS, BOUNDS]] = None) -> None:\n",
    "                 self.l1  = link_lengths[0]\n",
    "                 self.l2 = link_lengths[1]\n",
    "                 self.l3 = link_lengths[2]\n",
    "        \n",
    "\n",
    "    def forward_kinematics(self, configuration: CONFIG) -> XYZ:\n",
    "        # Get x,y\n",
    "        l1, l2,l3  = self.l1, self.l2, self.l3\n",
    "        a1, a2, a3 = configuration[0], configuration[1], configuration[2]\n",
    "        xyz = np.zeros(3)\n",
    "        first_one = np.array([l1*math.cos(a1), l1*math.sin(a1), 0])\n",
    "        xyz += first_one\n",
    "        \n",
    "        rotation_matrix = np.array([\n",
    "            [math.cos(a1), -1*math.sin(a1), 0],\n",
    "            [math.sin(a1), math.cos(a1), 0],\n",
    "            [0,0,1]\n",
    "        ])\n",
    "\n",
    "        second_one = np.array([l2*math.cos(a2),0,l2*math.sin(a2)])\n",
    "        second_one = rotation_matrix.dot(second_one)\n",
    "\n",
    "        thrid_one = np.array([l3*math.cos(a2 + a3), 0, l3 *math.cos(a2+a3)])\n",
    "        third_one = rotation_matrix.dot(third_one)\n",
    "\n",
    "        xyz = second_one + third_one\n",
    "\n",
    "        return (xyz[0], xyz[1], xyz[2])\n",
    "\n",
    "\n",
    "    def inverse_kinematics(self, end_effector_position: XYZ) -> CONFIG:\n",
    "        # (1) Unpacking parameters\n",
    "        x,y,z = end_effector_position[0], end_effector_position[1], end_effector_position[2]\n",
    "        l1 = self.l1\n",
    "\n",
    "        # (2) Find angle of first robot manipulator\n",
    "        a1 = math.atan(y/x)\n",
    "\n",
    "        # (3) Rotate problem into two dimensions \n",
    "        ## Defining inverse of a1-rotation matrix - (Do not need to define inverse because)\n",
    "        rotation_matrix = np.array([\n",
    "            [math.cos(a1), math.sin(a1), 0],\n",
    "            [-1*math.sin(a1), math.cos(a1), 0],\n",
    "            [0,0,1]\n",
    "        ])\n",
    "\n",
    "        xyz =np.array([x,y,z])\n",
    "        ## Getting xyz rotated into xz-plane\n",
    "        new_xz = rotation_matrix.dot(xyz)\n",
    "        new_xz[0] -= l1\n",
    "\n",
    "        # (4) Now we are back to standard 2R in plane case\n",
    "        # Copied code from previous problem\n",
    "        x, y = new_xz[0], new_xz[1]\n",
    "        l1, l2= self.l2, self.l3\n",
    "\n",
    "        # Be careful about 0 division errors\n",
    "        a3 = math.acos((x**2 + y**2 - l1**2 - l2**2) / (2*l1*l2))\n",
    "        if x != 0:\n",
    "            a2 = math.atan(y/x) - math.atan((l2*math.sin(a3)) / (l1 + l2 * math.cos(a3)))\n",
    "        else: \n",
    "            a2 = math.pi/2 - math.atan((l2*math.sin(a3)) / (l1 + l2 * math.cos(a3)))\n",
    "        \n",
    "        return (a1, a2, a3)\n",
    "    \n"
   ]
  },
  {
   "cell_type": "code",
   "execution_count": 49,
   "metadata": {},
   "outputs": [
    {
     "name": "stdout",
     "output_type": "stream",
     "text": [
      "(1.1071487177940904, -0.5308079026256183, 2.931471561897582)\n",
      "1.1071487177940904\n"
     ]
    }
   ],
   "source": [
    "# Creating robot\n",
    "link_lengths = (10, 40, 30)\n",
    "testRobot = Robot3R(link_lengths)\n",
    "\n",
    "print(testRobot.inverse_kinematics((10,20,20)))\n",
    "print(math.atan(20/10))"
   ]
  },
  {
   "cell_type": "markdown",
   "metadata": {},
   "source": [
    "**Testing**"
   ]
  },
  {
   "cell_type": "code",
   "execution_count": 16,
   "metadata": {},
   "outputs": [],
   "source": []
  },
  {
   "cell_type": "markdown",
   "metadata": {},
   "source": [
    "*Forward Kinematics*"
   ]
  },
  {
   "cell_type": "code",
   "execution_count": 20,
   "metadata": {},
   "outputs": [
    {
     "name": "stdout",
     "output_type": "stream",
     "text": [
      "(130.0, 0.0) should be: (130, 0)\n",
      "(21.21320343559643, 103.63961030678928) should be (21.213203435596427, 103.63961030678928)\n",
      "(0.0, 0.6435011087932844, 1.5707963267948966)\n"
     ]
    }
   ],
   "source": [
    "test1 = testRobot.forward_kinematics((0,0,0))\n",
    "print(test1, \"should be:\", (130, 0))\n",
    "\n",
    "test2 = testRobot.forward_kinematics((math.pi/4, math.pi/4, math.pi/4))\n",
    "print(test2, \"should be\", (60*math.sqrt(2)/2 - 30 * math.sqrt(2)/2, 60* math.sqrt(2)/2 + 40 + 30 * math.sqrt(2)/2))\n",
    "\n",
    "print(testRobot.inverse_kinematics((110,0)))"
   ]
  },
  {
   "cell_type": "code",
   "execution_count": null,
   "metadata": {},
   "outputs": [],
   "source": []
  }
 ],
 "metadata": {
  "kernelspec": {
   "display_name": "Python 3.10.7 ('env': venv)",
   "language": "python",
   "name": "python3"
  },
  "language_info": {
   "codemirror_mode": {
    "name": "ipython",
    "version": 3
   },
   "file_extension": ".py",
   "mimetype": "text/x-python",
   "name": "python",
   "nbconvert_exporter": "python",
   "pygments_lexer": "ipython3",
   "version": "3.10.7"
  },
  "orig_nbformat": 4,
  "vscode": {
   "interpreter": {
    "hash": "4767b5dcc895c65fdef7e259be165d522d0b07cdf6d579f01d6696b0d13fb9a9"
   }
  }
 },
 "nbformat": 4,
 "nbformat_minor": 2
}
